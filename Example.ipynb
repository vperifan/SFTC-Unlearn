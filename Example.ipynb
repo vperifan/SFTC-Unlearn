{
 "cells": [
  {
   "cell_type": "code",
   "execution_count": 1,
   "id": "92e13f77",
   "metadata": {},
   "outputs": [],
   "source": [
    "import time\n",
    "import os\n",
    "\n",
    "import copy\n",
    "from torch.utils.data import DataLoader\n",
    "\n",
    "import torch\n",
    "import numpy as np\n",
    "import random\n",
    "\n",
    "from experiment.helpers import get_data_training, get_model, get_optimizer, get_scheduler, get_criterion, \\\n",
    "    store_training_history, store_trained_model, get_unlearning_algorithm, get_dummy_model\n",
    "from utils.train_utils import base_fit\n",
    "\n",
    "from utils.unlearning_utils import RandomDistributionGenerator\n",
    "\n",
    "from utils.unlearning_metrics import js_ind, membership_inference, pretty_predict_all, sape\n",
    "\n",
    "\n",
    "from argparse import Namespace"
   ]
  },
  {
   "cell_type": "markdown",
   "id": "11b5dd29",
   "metadata": {},
   "source": [
    "# Reproducibility"
   ]
  },
  {
   "cell_type": "code",
   "execution_count": 2,
   "id": "9bdc2003",
   "metadata": {},
   "outputs": [],
   "source": [
    "def set_seed(seed=42):\n",
    "    np.random.seed(seed)\n",
    "    random.seed(seed)\n",
    "    torch.manual_seed(seed)\n",
    "    torch.cuda.manual_seed(seed)\n",
    "    torch.backends.cudnn.deterministic = True\n",
    "    torch.backends.cudnn.benchmark = False\n",
    "    os.environ['PYTHONHASHSEED'] = str(seed)\n",
    "    print(f\"Random seed set as {seed}\")"
   ]
  },
  {
   "cell_type": "markdown",
   "id": "1d9d9f4b",
   "metadata": {},
   "source": [
    "# Training Parameters"
   ]
  },
  {
   "cell_type": "code",
   "execution_count": 3,
   "id": "99555642",
   "metadata": {},
   "outputs": [],
   "source": [
    "# params\n",
    "full_train_args = Namespace(\n",
    "    dataset='mufac', # CIFAR dataset\n",
    "    mode='full', # do not get the full training set\n",
    "    model='resnet18', # the model to use\n",
    "    lr=1e-3, # learning rate\n",
    "    optimizer='adam', # optimizer\n",
    "    decay=0, # weight decay\n",
    "    epochs=30, # number of epochs\n",
    "    batch_size=64, # batch size\n",
    "    scheduler=True, # \n",
    "    class_weights=False,\n",
    "    store_model=False,\n",
    "    store_history=False,\n",
    "    num_runs=1\n",
    ")\n",
    "device = 'cuda' if torch.cuda.is_available() else 'cpu'"
   ]
  },
  {
   "cell_type": "markdown",
   "id": "f47db0ad",
   "metadata": {},
   "source": [
    "# Traditional Training"
   ]
  },
  {
   "cell_type": "code",
   "execution_count": 4,
   "id": "92ba68e2",
   "metadata": {},
   "outputs": [],
   "source": [
    "def train(args):\n",
    "    set_seed(0)\n",
    "    train_loader, val_loader, test_loader, forget_loader = get_data_training(args)\n",
    "\n",
    "    device = 'cuda' if torch.cuda.is_available() else 'cpu'\n",
    "\n",
    "    for i in range(args.num_runs):\n",
    "        model = get_model(args)\n",
    "        model.to(device)\n",
    "\n",
    "        optimizer = get_optimizer(args, model)\n",
    "        scheduler = get_scheduler(args, optimizer)\n",
    "\n",
    "        criterion = get_criterion(args, train_loader, device)\n",
    "        model, history = base_fit(\n",
    "            model=model,\n",
    "            train_loader=train_loader,\n",
    "            val_loader=val_loader,\n",
    "            test_loader=test_loader,\n",
    "            forget_loader=None,\n",
    "            optimizer=optimizer,\n",
    "            scheduler=scheduler,\n",
    "            criterion=criterion,\n",
    "            epochs=args.epochs,\n",
    "            return_history=True,\n",
    "            device=device,\n",
    "        )\n",
    "        timestamp = str(time.time())\n",
    "        name = str(args.model) + \"_\" + str(args.mode) + \"_\" + str(args.dataset) + \"_\" + timestamp\n",
    "        if args.store_history:\n",
    "            fig_name = name + \"_history\"\n",
    "            store_training_history(args, history, fig_name)\n",
    "        if args.store_model:\n",
    "            store_trained_model(args, model, name)\n",
    "        return model"
   ]
  },
  {
   "cell_type": "markdown",
   "id": "1600a764",
   "metadata": {},
   "source": [
    "# Train the full model"
   ]
  },
  {
   "cell_type": "code",
   "execution_count": 5,
   "id": "5b24e864",
   "metadata": {},
   "outputs": [
    {
     "name": "stdout",
     "output_type": "stream",
     "text": [
      "Random seed set as 0\n",
      "#Training: 10025\n",
      "#Validation: 1539\n",
      "#Test: 1504\n",
      "#Retain: 8525\n",
      "#Forget: 1500\n",
      "Compose(\n",
      "    Resize(size=128, interpolation=bilinear, max_size=None, antialias=warn)\n",
      "    RandomHorizontalFlip(p=0.5)\n",
      "    RandomAffine(degrees=[0.0, 0.0], scale=(0.8, 1.2), shear=[-10.0, 10.0])\n",
      "    ColorJitter(brightness=(0.8, 1.2), contrast=(0.8, 1.2), saturation=(0.8, 1.2), hue=None)\n",
      "    ToTensor()\n",
      ")\n",
      "Using seed=2357136044\n",
      "Using seed=2546248239\n",
      "Using seed=3071714933\n",
      "Adjusting learning rate of group 0 to 1.0000e-03.\n"
     ]
    },
    {
     "name": "stderr",
     "output_type": "stream",
     "text": [
      "Epoch 1 - Training: 100%|█████████████████████████████████████████████████████████████████████████████████████████████████████████████████████████████████████████████████████████████████████████| 157/157 [00:09<00:00, 16.69it/s]"
     ]
    },
    {
     "name": "stdout",
     "output_type": "stream",
     "text": [
      "Adjusting learning rate of group 0 to 9.9726e-04.\n"
     ]
    },
    {
     "name": "stderr",
     "output_type": "stream",
     "text": [
      "\n"
     ]
    },
    {
     "name": "stdout",
     "output_type": "stream",
     "text": [
      "[Epoch 1]\n",
      "\t[Train]\tLoss=1.7425, Acc=0.2298\n",
      "\t[Val]\tLoss=2.2437, Acc=0.1780\n",
      "\t[Test]\tLoss=2.1579, Acc=0.2088\n"
     ]
    },
    {
     "name": "stderr",
     "output_type": "stream",
     "text": [
      "Epoch 2 - Training: 100%|█████████████████████████████████████████████████████████████████████████████████████████████████████████████████████████████████████████████████████████████████████████| 157/157 [00:08<00:00, 19.32it/s]"
     ]
    },
    {
     "name": "stdout",
     "output_type": "stream",
     "text": [
      "Adjusting learning rate of group 0 to 9.8907e-04.\n"
     ]
    },
    {
     "name": "stderr",
     "output_type": "stream",
     "text": [
      "\n"
     ]
    },
    {
     "name": "stdout",
     "output_type": "stream",
     "text": [
      "[Epoch 2]\n",
      "\t[Train]\tLoss=1.4224, Acc=0.4025\n",
      "\t[Val]\tLoss=1.5666, Acc=0.3548\n",
      "\t[Test]\tLoss=1.4402, Acc=0.4435\n"
     ]
    },
    {
     "name": "stderr",
     "output_type": "stream",
     "text": [
      "Epoch 3 - Training: 100%|█████████████████████████████████████████████████████████████████████████████████████████████████████████████████████████████████████████████████████████████████████████| 157/157 [00:08<00:00, 19.24it/s]"
     ]
    },
    {
     "name": "stdout",
     "output_type": "stream",
     "text": [
      "Adjusting learning rate of group 0 to 9.7553e-04.\n"
     ]
    },
    {
     "name": "stderr",
     "output_type": "stream",
     "text": [
      "\n"
     ]
    },
    {
     "name": "stdout",
     "output_type": "stream",
     "text": [
      "[Epoch 3]\n",
      "\t[Train]\tLoss=1.3146, Acc=0.4602\n",
      "\t[Val]\tLoss=1.3517, Acc=0.4425\n",
      "\t[Test]\tLoss=1.2640, Acc=0.5033\n"
     ]
    },
    {
     "name": "stderr",
     "output_type": "stream",
     "text": [
      "Epoch 4 - Training: 100%|█████████████████████████████████████████████████████████████████████████████████████████████████████████████████████████████████████████████████████████████████████████| 157/157 [00:08<00:00, 18.78it/s]"
     ]
    },
    {
     "name": "stdout",
     "output_type": "stream",
     "text": [
      "Adjusting learning rate of group 0 to 9.5677e-04.\n"
     ]
    },
    {
     "name": "stderr",
     "output_type": "stream",
     "text": [
      "\n"
     ]
    },
    {
     "name": "stdout",
     "output_type": "stream",
     "text": [
      "[Epoch 4]\n",
      "\t[Train]\tLoss=1.2374, Acc=0.4993\n",
      "\t[Val]\tLoss=1.3129, Acc=0.4451\n",
      "\t[Test]\tLoss=1.1821, Acc=0.5033\n"
     ]
    },
    {
     "name": "stderr",
     "output_type": "stream",
     "text": [
      "Epoch 5 - Training: 100%|█████████████████████████████████████████████████████████████████████████████████████████████████████████████████████████████████████████████████████████████████████████| 157/157 [00:08<00:00, 19.09it/s]"
     ]
    },
    {
     "name": "stdout",
     "output_type": "stream",
     "text": [
      "Adjusting learning rate of group 0 to 9.3301e-04.\n"
     ]
    },
    {
     "name": "stderr",
     "output_type": "stream",
     "text": [
      "\n"
     ]
    },
    {
     "name": "stdout",
     "output_type": "stream",
     "text": [
      "[Epoch 5]\n",
      "\t[Train]\tLoss=1.1594, Acc=0.5023\n",
      "\t[Val]\tLoss=1.2488, Acc=0.4828\n",
      "\t[Test]\tLoss=1.1684, Acc=0.5133\n"
     ]
    },
    {
     "name": "stderr",
     "output_type": "stream",
     "text": [
      "Epoch 6 - Training: 100%|█████████████████████████████████████████████████████████████████████████████████████████████████████████████████████████████████████████████████████████████████████████| 157/157 [00:08<00:00, 18.75it/s]"
     ]
    },
    {
     "name": "stdout",
     "output_type": "stream",
     "text": [
      "Adjusting learning rate of group 0 to 9.0451e-04.\n"
     ]
    },
    {
     "name": "stderr",
     "output_type": "stream",
     "text": [
      "\n"
     ]
    },
    {
     "name": "stdout",
     "output_type": "stream",
     "text": [
      "[Epoch 6]\n",
      "\t[Train]\tLoss=1.1127, Acc=0.5509\n",
      "\t[Val]\tLoss=1.2101, Acc=0.4776\n",
      "\t[Test]\tLoss=1.0720, Acc=0.5332\n"
     ]
    },
    {
     "name": "stderr",
     "output_type": "stream",
     "text": [
      "Epoch 7 - Training: 100%|█████████████████████████████████████████████████████████████████████████████████████████████████████████████████████████████████████████████████████████████████████████| 157/157 [00:08<00:00, 19.20it/s]"
     ]
    },
    {
     "name": "stdout",
     "output_type": "stream",
     "text": [
      "Adjusting learning rate of group 0 to 8.7157e-04.\n"
     ]
    },
    {
     "name": "stderr",
     "output_type": "stream",
     "text": [
      "\n"
     ]
    },
    {
     "name": "stdout",
     "output_type": "stream",
     "text": [
      "[Epoch 7]\n",
      "\t[Train]\tLoss=1.0587, Acc=0.5861\n",
      "\t[Val]\tLoss=1.1297, Acc=0.5367\n",
      "\t[Test]\tLoss=1.0271, Acc=0.5844\n"
     ]
    },
    {
     "name": "stderr",
     "output_type": "stream",
     "text": [
      "Epoch 8 - Training: 100%|█████████████████████████████████████████████████████████████████████████████████████████████████████████████████████████████████████████████████████████████████████████| 157/157 [00:08<00:00, 19.20it/s]"
     ]
    },
    {
     "name": "stdout",
     "output_type": "stream",
     "text": [
      "Adjusting learning rate of group 0 to 8.3457e-04.\n"
     ]
    },
    {
     "name": "stderr",
     "output_type": "stream",
     "text": [
      "\n"
     ]
    },
    {
     "name": "stdout",
     "output_type": "stream",
     "text": [
      "[Epoch 8]\n",
      "\t[Train]\tLoss=1.0214, Acc=0.5594\n",
      "\t[Val]\tLoss=1.3898, Acc=0.4340\n",
      "\t[Test]\tLoss=1.2252, Acc=0.5106\n"
     ]
    },
    {
     "name": "stderr",
     "output_type": "stream",
     "text": [
      "Epoch 9 - Training: 100%|█████████████████████████████████████████████████████████████████████████████████████████████████████████████████████████████████████████████████████████████████████████| 157/157 [00:08<00:00, 19.13it/s]"
     ]
    },
    {
     "name": "stdout",
     "output_type": "stream",
     "text": [
      "Adjusting learning rate of group 0 to 7.9389e-04.\n"
     ]
    },
    {
     "name": "stderr",
     "output_type": "stream",
     "text": [
      "\n"
     ]
    },
    {
     "name": "stdout",
     "output_type": "stream",
     "text": [
      "[Epoch 9]\n",
      "\t[Train]\tLoss=0.9757, Acc=0.6216\n",
      "\t[Val]\tLoss=1.2215, Acc=0.5062\n",
      "\t[Test]\tLoss=1.0539, Acc=0.5512\n"
     ]
    },
    {
     "name": "stderr",
     "output_type": "stream",
     "text": [
      "Epoch 10 - Training: 100%|████████████████████████████████████████████████████████████████████████████████████████████████████████████████████████████████████████████████████████████████████████| 157/157 [00:08<00:00, 19.23it/s]"
     ]
    },
    {
     "name": "stdout",
     "output_type": "stream",
     "text": [
      "Adjusting learning rate of group 0 to 7.5000e-04.\n"
     ]
    },
    {
     "name": "stderr",
     "output_type": "stream",
     "text": [
      "\n"
     ]
    },
    {
     "name": "stdout",
     "output_type": "stream",
     "text": [
      "[Epoch 10]\n",
      "\t[Train]\tLoss=0.9282, Acc=0.5772\n",
      "\t[Val]\tLoss=1.3882, Acc=0.4574\n",
      "\t[Test]\tLoss=1.2339, Acc=0.5173\n"
     ]
    },
    {
     "name": "stderr",
     "output_type": "stream",
     "text": [
      "Epoch 11 - Training: 100%|████████████████████████████████████████████████████████████████████████████████████████████████████████████████████████████████████████████████████████████████████████| 157/157 [00:07<00:00, 19.63it/s]"
     ]
    },
    {
     "name": "stdout",
     "output_type": "stream",
     "text": [
      "Adjusting learning rate of group 0 to 7.0337e-04.\n"
     ]
    },
    {
     "name": "stderr",
     "output_type": "stream",
     "text": [
      "\n"
     ]
    },
    {
     "name": "stdout",
     "output_type": "stream",
     "text": [
      "[Epoch 11]\n",
      "\t[Train]\tLoss=0.8850, Acc=0.6401\n",
      "\t[Val]\tLoss=1.2031, Acc=0.4971\n",
      "\t[Test]\tLoss=1.1280, Acc=0.5459\n"
     ]
    },
    {
     "name": "stderr",
     "output_type": "stream",
     "text": [
      "Epoch 12 - Training: 100%|████████████████████████████████████████████████████████████████████████████████████████████████████████████████████████████████████████████████████████████████████████| 157/157 [00:08<00:00, 19.21it/s]"
     ]
    },
    {
     "name": "stdout",
     "output_type": "stream",
     "text": [
      "Adjusting learning rate of group 0 to 6.5451e-04.\n"
     ]
    },
    {
     "name": "stderr",
     "output_type": "stream",
     "text": [
      "\n"
     ]
    },
    {
     "name": "stdout",
     "output_type": "stream",
     "text": [
      "[Epoch 12]\n",
      "\t[Train]\tLoss=0.8231, Acc=0.5699\n",
      "\t[Val]\tLoss=1.4133, Acc=0.4652\n",
      "\t[Test]\tLoss=1.2948, Acc=0.5226\n"
     ]
    },
    {
     "name": "stderr",
     "output_type": "stream",
     "text": [
      "Epoch 13 - Training: 100%|████████████████████████████████████████████████████████████████████████████████████████████████████████████████████████████████████████████████████████████████████████| 157/157 [00:07<00:00, 19.66it/s]"
     ]
    },
    {
     "name": "stdout",
     "output_type": "stream",
     "text": [
      "Adjusting learning rate of group 0 to 6.0396e-04.\n"
     ]
    },
    {
     "name": "stderr",
     "output_type": "stream",
     "text": [
      "\n"
     ]
    },
    {
     "name": "stdout",
     "output_type": "stream",
     "text": [
      "[Epoch 13]\n",
      "\t[Train]\tLoss=0.7845, Acc=0.6717\n",
      "\t[Val]\tLoss=1.3205, Acc=0.4997\n",
      "\t[Test]\tLoss=1.2718, Acc=0.5193\n"
     ]
    },
    {
     "name": "stderr",
     "output_type": "stream",
     "text": [
      "Epoch 14 - Training: 100%|████████████████████████████████████████████████████████████████████████████████████████████████████████████████████████████████████████████████████████████████████████| 157/157 [00:07<00:00, 19.77it/s]"
     ]
    },
    {
     "name": "stdout",
     "output_type": "stream",
     "text": [
      "Adjusting learning rate of group 0 to 5.5226e-04.\n"
     ]
    },
    {
     "name": "stderr",
     "output_type": "stream",
     "text": [
      "\n"
     ]
    },
    {
     "name": "stdout",
     "output_type": "stream",
     "text": [
      "[Epoch 14]\n",
      "\t[Train]\tLoss=0.7336, Acc=0.6820\n",
      "\t[Val]\tLoss=1.2005, Acc=0.5127\n",
      "\t[Test]\tLoss=1.0749, Acc=0.5578\n"
     ]
    },
    {
     "name": "stderr",
     "output_type": "stream",
     "text": [
      "Epoch 15 - Training: 100%|████████████████████████████████████████████████████████████████████████████████████████████████████████████████████████████████████████████████████████████████████████| 157/157 [00:08<00:00, 19.54it/s]"
     ]
    },
    {
     "name": "stdout",
     "output_type": "stream",
     "text": [
      "Adjusting learning rate of group 0 to 5.0000e-04.\n"
     ]
    },
    {
     "name": "stderr",
     "output_type": "stream",
     "text": [
      "\n"
     ]
    },
    {
     "name": "stdout",
     "output_type": "stream",
     "text": [
      "[Epoch 15]\n",
      "\t[Train]\tLoss=0.6909, Acc=0.7450\n",
      "\t[Val]\tLoss=1.1510, Acc=0.5569\n",
      "\t[Test]\tLoss=1.0430, Acc=0.5844\n"
     ]
    },
    {
     "name": "stderr",
     "output_type": "stream",
     "text": [
      "Epoch 16 - Training: 100%|████████████████████████████████████████████████████████████████████████████████████████████████████████████████████████████████████████████████████████████████████████| 157/157 [00:08<00:00, 19.16it/s]"
     ]
    },
    {
     "name": "stdout",
     "output_type": "stream",
     "text": [
      "Adjusting learning rate of group 0 to 4.4774e-04.\n"
     ]
    },
    {
     "name": "stderr",
     "output_type": "stream",
     "text": [
      "\n"
     ]
    },
    {
     "name": "stdout",
     "output_type": "stream",
     "text": [
      "[Epoch 16]\n",
      "\t[Train]\tLoss=0.6367, Acc=0.7304\n",
      "\t[Val]\tLoss=1.1173, Acc=0.5491\n",
      "\t[Test]\tLoss=1.0743, Acc=0.5918\n"
     ]
    },
    {
     "name": "stderr",
     "output_type": "stream",
     "text": [
      "Epoch 17 - Training: 100%|████████████████████████████████████████████████████████████████████████████████████████████████████████████████████████████████████████████████████████████████████████| 157/157 [00:08<00:00, 19.18it/s]"
     ]
    },
    {
     "name": "stdout",
     "output_type": "stream",
     "text": [
      "Adjusting learning rate of group 0 to 3.9604e-04.\n"
     ]
    },
    {
     "name": "stderr",
     "output_type": "stream",
     "text": [
      "\n"
     ]
    },
    {
     "name": "stdout",
     "output_type": "stream",
     "text": [
      "[Epoch 17]\n",
      "\t[Train]\tLoss=0.5783, Acc=0.8142\n",
      "\t[Val]\tLoss=1.3290, Acc=0.5218\n",
      "\t[Test]\tLoss=1.2121, Acc=0.5638\n"
     ]
    },
    {
     "name": "stderr",
     "output_type": "stream",
     "text": [
      "Epoch 18 - Training: 100%|████████████████████████████████████████████████████████████████████████████████████████████████████████████████████████████████████████████████████████████████████████| 157/157 [00:08<00:00, 19.55it/s]"
     ]
    },
    {
     "name": "stdout",
     "output_type": "stream",
     "text": [
      "Adjusting learning rate of group 0 to 3.4549e-04.\n"
     ]
    },
    {
     "name": "stderr",
     "output_type": "stream",
     "text": [
      "\n"
     ]
    },
    {
     "name": "stdout",
     "output_type": "stream",
     "text": [
      "[Epoch 18]\n",
      "\t[Train]\tLoss=0.5198, Acc=0.8356\n",
      "\t[Val]\tLoss=1.2804, Acc=0.5400\n",
      "\t[Test]\tLoss=1.1659, Acc=0.6004\n"
     ]
    },
    {
     "name": "stderr",
     "output_type": "stream",
     "text": [
      "Epoch 19 - Training: 100%|████████████████████████████████████████████████████████████████████████████████████████████████████████████████████████████████████████████████████████████████████████| 157/157 [00:07<00:00, 19.88it/s]"
     ]
    },
    {
     "name": "stdout",
     "output_type": "stream",
     "text": [
      "Adjusting learning rate of group 0 to 2.9663e-04.\n"
     ]
    },
    {
     "name": "stderr",
     "output_type": "stream",
     "text": [
      "\n"
     ]
    },
    {
     "name": "stdout",
     "output_type": "stream",
     "text": [
      "[Epoch 19]\n",
      "\t[Train]\tLoss=0.4607, Acc=0.8282\n",
      "\t[Val]\tLoss=1.3437, Acc=0.5484\n",
      "\t[Test]\tLoss=1.1497, Acc=0.6017\n"
     ]
    },
    {
     "name": "stderr",
     "output_type": "stream",
     "text": [
      "Epoch 20 - Training: 100%|████████████████████████████████████████████████████████████████████████████████████████████████████████████████████████████████████████████████████████████████████████| 157/157 [00:08<00:00, 19.52it/s]"
     ]
    },
    {
     "name": "stdout",
     "output_type": "stream",
     "text": [
      "Adjusting learning rate of group 0 to 2.5000e-04.\n"
     ]
    },
    {
     "name": "stderr",
     "output_type": "stream",
     "text": [
      "\n"
     ]
    },
    {
     "name": "stdout",
     "output_type": "stream",
     "text": [
      "[Epoch 20]\n",
      "\t[Train]\tLoss=0.4075, Acc=0.8840\n",
      "\t[Val]\tLoss=1.3379, Acc=0.5653\n",
      "\t[Test]\tLoss=1.1811, Acc=0.6157\n"
     ]
    },
    {
     "name": "stderr",
     "output_type": "stream",
     "text": [
      "Epoch 21 - Training: 100%|████████████████████████████████████████████████████████████████████████████████████████████████████████████████████████████████████████████████████████████████████████| 157/157 [00:08<00:00, 19.33it/s]"
     ]
    },
    {
     "name": "stdout",
     "output_type": "stream",
     "text": [
      "Adjusting learning rate of group 0 to 2.0611e-04.\n"
     ]
    },
    {
     "name": "stderr",
     "output_type": "stream",
     "text": [
      "\n"
     ]
    },
    {
     "name": "stdout",
     "output_type": "stream",
     "text": [
      "[Epoch 21]\n",
      "\t[Train]\tLoss=0.3412, Acc=0.8962\n",
      "\t[Val]\tLoss=1.4609, Acc=0.5361\n",
      "\t[Test]\tLoss=1.2768, Acc=0.5878\n"
     ]
    },
    {
     "name": "stderr",
     "output_type": "stream",
     "text": [
      "Epoch 22 - Training: 100%|████████████████████████████████████████████████████████████████████████████████████████████████████████████████████████████████████████████████████████████████████████| 157/157 [00:07<00:00, 20.05it/s]"
     ]
    },
    {
     "name": "stdout",
     "output_type": "stream",
     "text": [
      "Adjusting learning rate of group 0 to 1.6543e-04.\n"
     ]
    },
    {
     "name": "stderr",
     "output_type": "stream",
     "text": [
      "\n"
     ]
    },
    {
     "name": "stdout",
     "output_type": "stream",
     "text": [
      "[Epoch 22]\n",
      "\t[Train]\tLoss=0.2984, Acc=0.9068\n",
      "\t[Val]\tLoss=1.4650, Acc=0.5497\n",
      "\t[Test]\tLoss=1.3225, Acc=0.6070\n"
     ]
    },
    {
     "name": "stderr",
     "output_type": "stream",
     "text": [
      "Epoch 23 - Training: 100%|████████████████████████████████████████████████████████████████████████████████████████████████████████████████████████████████████████████████████████████████████████| 157/157 [00:08<00:00, 19.24it/s]"
     ]
    },
    {
     "name": "stdout",
     "output_type": "stream",
     "text": [
      "Adjusting learning rate of group 0 to 1.2843e-04.\n"
     ]
    },
    {
     "name": "stderr",
     "output_type": "stream",
     "text": [
      "\n"
     ]
    },
    {
     "name": "stdout",
     "output_type": "stream",
     "text": [
      "[Epoch 23]\n",
      "\t[Train]\tLoss=0.2516, Acc=0.9239\n",
      "\t[Val]\tLoss=1.6642, Acc=0.5387\n",
      "\t[Test]\tLoss=1.4126, Acc=0.5898\n"
     ]
    },
    {
     "name": "stderr",
     "output_type": "stream",
     "text": [
      "Epoch 24 - Training: 100%|████████████████████████████████████████████████████████████████████████████████████████████████████████████████████████████████████████████████████████████████████████| 157/157 [00:08<00:00, 19.45it/s]"
     ]
    },
    {
     "name": "stdout",
     "output_type": "stream",
     "text": [
      "Adjusting learning rate of group 0 to 9.5492e-05.\n"
     ]
    },
    {
     "name": "stderr",
     "output_type": "stream",
     "text": [
      "\n"
     ]
    },
    {
     "name": "stdout",
     "output_type": "stream",
     "text": [
      "[Epoch 24]\n",
      "\t[Train]\tLoss=0.2165, Acc=0.9355\n",
      "\t[Val]\tLoss=1.7060, Acc=0.5458\n",
      "\t[Test]\tLoss=1.4964, Acc=0.5957\n"
     ]
    },
    {
     "name": "stderr",
     "output_type": "stream",
     "text": [
      "Epoch 25 - Training: 100%|████████████████████████████████████████████████████████████████████████████████████████████████████████████████████████████████████████████████████████████████████████| 157/157 [00:08<00:00, 19.38it/s]"
     ]
    },
    {
     "name": "stdout",
     "output_type": "stream",
     "text": [
      "Adjusting learning rate of group 0 to 6.6987e-05.\n"
     ]
    },
    {
     "name": "stderr",
     "output_type": "stream",
     "text": [
      "\n"
     ]
    },
    {
     "name": "stdout",
     "output_type": "stream",
     "text": [
      "[Epoch 25]\n",
      "\t[Train]\tLoss=0.1967, Acc=0.9455\n",
      "\t[Val]\tLoss=1.7348, Acc=0.5439\n",
      "\t[Test]\tLoss=1.4902, Acc=0.5824\n"
     ]
    },
    {
     "name": "stderr",
     "output_type": "stream",
     "text": [
      "Epoch 26 - Training: 100%|████████████████████████████████████████████████████████████████████████████████████████████████████████████████████████████████████████████████████████████████████████| 157/157 [00:07<00:00, 19.70it/s]"
     ]
    },
    {
     "name": "stdout",
     "output_type": "stream",
     "text": [
      "Adjusting learning rate of group 0 to 4.3227e-05.\n"
     ]
    },
    {
     "name": "stderr",
     "output_type": "stream",
     "text": [
      "\n"
     ]
    },
    {
     "name": "stdout",
     "output_type": "stream",
     "text": [
      "[Epoch 26]\n",
      "\t[Train]\tLoss=0.1748, Acc=0.9537\n",
      "\t[Val]\tLoss=1.8015, Acc=0.5575\n",
      "\t[Test]\tLoss=1.5231, Acc=0.5878\n"
     ]
    },
    {
     "name": "stderr",
     "output_type": "stream",
     "text": [
      "Epoch 27 - Training: 100%|████████████████████████████████████████████████████████████████████████████████████████████████████████████████████████████████████████████████████████████████████████| 157/157 [00:08<00:00, 19.61it/s]"
     ]
    },
    {
     "name": "stdout",
     "output_type": "stream",
     "text": [
      "Adjusting learning rate of group 0 to 2.4472e-05.\n"
     ]
    },
    {
     "name": "stderr",
     "output_type": "stream",
     "text": [
      "\n"
     ]
    },
    {
     "name": "stdout",
     "output_type": "stream",
     "text": [
      "[Epoch 27]\n",
      "\t[Train]\tLoss=0.1488, Acc=0.9608\n",
      "\t[Val]\tLoss=1.8666, Acc=0.5419\n",
      "\t[Test]\tLoss=1.5333, Acc=0.5951\n"
     ]
    },
    {
     "name": "stderr",
     "output_type": "stream",
     "text": [
      "Epoch 28 - Training: 100%|████████████████████████████████████████████████████████████████████████████████████████████████████████████████████████████████████████████████████████████████████████| 157/157 [00:07<00:00, 19.68it/s]"
     ]
    },
    {
     "name": "stdout",
     "output_type": "stream",
     "text": [
      "Adjusting learning rate of group 0 to 1.0926e-05.\n"
     ]
    },
    {
     "name": "stderr",
     "output_type": "stream",
     "text": [
      "\n"
     ]
    },
    {
     "name": "stdout",
     "output_type": "stream",
     "text": [
      "[Epoch 28]\n",
      "\t[Train]\tLoss=0.1505, Acc=0.9628\n",
      "\t[Val]\tLoss=1.8418, Acc=0.5523\n",
      "\t[Test]\tLoss=1.5132, Acc=0.6004\n"
     ]
    },
    {
     "name": "stderr",
     "output_type": "stream",
     "text": [
      "Epoch 29 - Training: 100%|████████████████████████████████████████████████████████████████████████████████████████████████████████████████████████████████████████████████████████████████████████| 157/157 [00:08<00:00, 19.44it/s]"
     ]
    },
    {
     "name": "stdout",
     "output_type": "stream",
     "text": [
      "Adjusting learning rate of group 0 to 2.7391e-06.\n"
     ]
    },
    {
     "name": "stderr",
     "output_type": "stream",
     "text": [
      "\n"
     ]
    },
    {
     "name": "stdout",
     "output_type": "stream",
     "text": [
      "[Epoch 29]\n",
      "\t[Train]\tLoss=0.1315, Acc=0.9628\n",
      "\t[Val]\tLoss=1.8771, Acc=0.5530\n",
      "\t[Test]\tLoss=1.5374, Acc=0.5964\n"
     ]
    },
    {
     "name": "stderr",
     "output_type": "stream",
     "text": [
      "Epoch 30 - Training: 100%|████████████████████████████████████████████████████████████████████████████████████████████████████████████████████████████████████████████████████████████████████████| 157/157 [00:08<00:00, 19.13it/s]"
     ]
    },
    {
     "name": "stdout",
     "output_type": "stream",
     "text": [
      "Adjusting learning rate of group 0 to 0.0000e+00.\n"
     ]
    },
    {
     "name": "stderr",
     "output_type": "stream",
     "text": [
      "\n"
     ]
    },
    {
     "name": "stdout",
     "output_type": "stream",
     "text": [
      "[Epoch 30]\n",
      "\t[Train]\tLoss=0.1296, Acc=0.9638\n",
      "\t[Val]\tLoss=1.8497, Acc=0.5575\n",
      "\t[Test]\tLoss=1.5223, Acc=0.6037\n"
     ]
    }
   ],
   "source": [
    "trained_model = train(full_train_args)"
   ]
  },
  {
   "cell_type": "markdown",
   "id": "80a8eb2d",
   "metadata": {},
   "source": [
    "# Train the ideal model"
   ]
  },
  {
   "cell_type": "code",
   "execution_count": 6,
   "id": "447add33",
   "metadata": {},
   "outputs": [
    {
     "name": "stdout",
     "output_type": "stream",
     "text": [
      "Random seed set as 0\n",
      "#Training: 10025\n",
      "#Validation: 1539\n",
      "#Test: 1504\n",
      "#Retain: 8525\n",
      "#Forget: 1500\n",
      "Compose(\n",
      "    Resize(size=128, interpolation=bilinear, max_size=None, antialias=warn)\n",
      "    RandomHorizontalFlip(p=0.5)\n",
      "    RandomAffine(degrees=[0.0, 0.0], scale=(0.8, 1.2), shear=[-10.0, 10.0])\n",
      "    ColorJitter(brightness=(0.8, 1.2), contrast=(0.8, 1.2), saturation=(0.8, 1.2), hue=None)\n",
      "    ToTensor()\n",
      ")\n",
      "Using seed=2357136044\n",
      "Using seed=2546248239\n",
      "Using seed=3071714933\n",
      "Adjusting learning rate of group 0 to 1.0000e-03.\n"
     ]
    },
    {
     "name": "stderr",
     "output_type": "stream",
     "text": [
      "Epoch 1 - Training: 100%|█████████████████████████████████████████████████████████████████████████████████████████████████████████████████████████████████████████████████████████████████████████| 134/134 [00:06<00:00, 19.26it/s]"
     ]
    },
    {
     "name": "stdout",
     "output_type": "stream",
     "text": [
      "Adjusting learning rate of group 0 to 9.9726e-04.\n"
     ]
    },
    {
     "name": "stderr",
     "output_type": "stream",
     "text": [
      "\n"
     ]
    },
    {
     "name": "stdout",
     "output_type": "stream",
     "text": [
      "[Epoch 1]\n",
      "\t[Train]\tLoss=1.6981, Acc=0.3223\n",
      "\t[Val]\tLoss=1.5740, Acc=0.3788\n",
      "\t[Test]\tLoss=1.4814, Acc=0.3989\n"
     ]
    },
    {
     "name": "stderr",
     "output_type": "stream",
     "text": [
      "Epoch 2 - Training: 100%|█████████████████████████████████████████████████████████████████████████████████████████████████████████████████████████████████████████████████████████████████████████| 134/134 [00:06<00:00, 19.55it/s]"
     ]
    },
    {
     "name": "stdout",
     "output_type": "stream",
     "text": [
      "Adjusting learning rate of group 0 to 9.8907e-04.\n"
     ]
    },
    {
     "name": "stderr",
     "output_type": "stream",
     "text": [
      "\n"
     ]
    },
    {
     "name": "stdout",
     "output_type": "stream",
     "text": [
      "[Epoch 2]\n",
      "\t[Train]\tLoss=1.4172, Acc=0.3451\n",
      "\t[Val]\tLoss=1.8021, Acc=0.2508\n",
      "\t[Test]\tLoss=1.7491, Acc=0.2899\n"
     ]
    },
    {
     "name": "stderr",
     "output_type": "stream",
     "text": [
      "Epoch 3 - Training: 100%|█████████████████████████████████████████████████████████████████████████████████████████████████████████████████████████████████████████████████████████████████████████| 134/134 [00:06<00:00, 19.50it/s]"
     ]
    },
    {
     "name": "stdout",
     "output_type": "stream",
     "text": [
      "Adjusting learning rate of group 0 to 9.7553e-04.\n"
     ]
    },
    {
     "name": "stderr",
     "output_type": "stream",
     "text": [
      "\n"
     ]
    },
    {
     "name": "stdout",
     "output_type": "stream",
     "text": [
      "[Epoch 3]\n",
      "\t[Train]\tLoss=1.2935, Acc=0.3845\n",
      "\t[Val]\tLoss=1.4878, Acc=0.4139\n",
      "\t[Test]\tLoss=1.4995, Acc=0.4435\n"
     ]
    },
    {
     "name": "stderr",
     "output_type": "stream",
     "text": [
      "Epoch 4 - Training: 100%|█████████████████████████████████████████████████████████████████████████████████████████████████████████████████████████████████████████████████████████████████████████| 134/134 [00:07<00:00, 18.96it/s]"
     ]
    },
    {
     "name": "stdout",
     "output_type": "stream",
     "text": [
      "Adjusting learning rate of group 0 to 9.5677e-04.\n"
     ]
    },
    {
     "name": "stderr",
     "output_type": "stream",
     "text": [
      "\n"
     ]
    },
    {
     "name": "stdout",
     "output_type": "stream",
     "text": [
      "[Epoch 4]\n",
      "\t[Train]\tLoss=1.2338, Acc=0.4819\n",
      "\t[Val]\tLoss=1.3178, Acc=0.4496\n",
      "\t[Test]\tLoss=1.2229, Acc=0.5140\n"
     ]
    },
    {
     "name": "stderr",
     "output_type": "stream",
     "text": [
      "Epoch 5 - Training: 100%|█████████████████████████████████████████████████████████████████████████████████████████████████████████████████████████████████████████████████████████████████████████| 134/134 [00:06<00:00, 19.32it/s]"
     ]
    },
    {
     "name": "stdout",
     "output_type": "stream",
     "text": [
      "Adjusting learning rate of group 0 to 9.3301e-04.\n"
     ]
    },
    {
     "name": "stderr",
     "output_type": "stream",
     "text": [
      "\n"
     ]
    },
    {
     "name": "stdout",
     "output_type": "stream",
     "text": [
      "[Epoch 5]\n",
      "\t[Train]\tLoss=1.1692, Acc=0.5396\n",
      "\t[Val]\tLoss=1.1883, Acc=0.5179\n",
      "\t[Test]\tLoss=1.0764, Acc=0.5479\n"
     ]
    },
    {
     "name": "stderr",
     "output_type": "stream",
     "text": [
      "Epoch 6 - Training: 100%|█████████████████████████████████████████████████████████████████████████████████████████████████████████████████████████████████████████████████████████████████████████| 134/134 [00:06<00:00, 19.34it/s]"
     ]
    },
    {
     "name": "stdout",
     "output_type": "stream",
     "text": [
      "Adjusting learning rate of group 0 to 9.0451e-04.\n"
     ]
    },
    {
     "name": "stderr",
     "output_type": "stream",
     "text": [
      "\n"
     ]
    },
    {
     "name": "stdout",
     "output_type": "stream",
     "text": [
      "[Epoch 6]\n",
      "\t[Train]\tLoss=1.1170, Acc=0.5394\n",
      "\t[Val]\tLoss=1.2938, Acc=0.4964\n",
      "\t[Test]\tLoss=1.2093, Acc=0.5253\n"
     ]
    },
    {
     "name": "stderr",
     "output_type": "stream",
     "text": [
      "Epoch 7 - Training: 100%|█████████████████████████████████████████████████████████████████████████████████████████████████████████████████████████████████████████████████████████████████████████| 134/134 [00:06<00:00, 19.33it/s]"
     ]
    },
    {
     "name": "stdout",
     "output_type": "stream",
     "text": [
      "Adjusting learning rate of group 0 to 8.7157e-04.\n"
     ]
    },
    {
     "name": "stderr",
     "output_type": "stream",
     "text": [
      "\n"
     ]
    },
    {
     "name": "stdout",
     "output_type": "stream",
     "text": [
      "[Epoch 7]\n",
      "\t[Train]\tLoss=1.0722, Acc=0.5135\n",
      "\t[Val]\tLoss=1.5495, Acc=0.4146\n",
      "\t[Test]\tLoss=1.3927, Acc=0.4495\n"
     ]
    },
    {
     "name": "stderr",
     "output_type": "stream",
     "text": [
      "Epoch 8 - Training: 100%|█████████████████████████████████████████████████████████████████████████████████████████████████████████████████████████████████████████████████████████████████████████| 134/134 [00:06<00:00, 19.37it/s]"
     ]
    },
    {
     "name": "stdout",
     "output_type": "stream",
     "text": [
      "Adjusting learning rate of group 0 to 8.3457e-04.\n"
     ]
    },
    {
     "name": "stderr",
     "output_type": "stream",
     "text": [
      "\n"
     ]
    },
    {
     "name": "stdout",
     "output_type": "stream",
     "text": [
      "[Epoch 8]\n",
      "\t[Train]\tLoss=1.0335, Acc=0.5273\n",
      "\t[Val]\tLoss=1.3641, Acc=0.4633\n",
      "\t[Test]\tLoss=1.3047, Acc=0.4787\n"
     ]
    },
    {
     "name": "stderr",
     "output_type": "stream",
     "text": [
      "Epoch 9 - Training: 100%|█████████████████████████████████████████████████████████████████████████████████████████████████████████████████████████████████████████████████████████████████████████| 134/134 [00:06<00:00, 20.01it/s]"
     ]
    },
    {
     "name": "stdout",
     "output_type": "stream",
     "text": [
      "Adjusting learning rate of group 0 to 7.9389e-04.\n"
     ]
    },
    {
     "name": "stderr",
     "output_type": "stream",
     "text": [
      "\n"
     ]
    },
    {
     "name": "stdout",
     "output_type": "stream",
     "text": [
      "[Epoch 9]\n",
      "\t[Train]\tLoss=0.9679, Acc=0.6239\n",
      "\t[Val]\tLoss=1.1685, Acc=0.5107\n",
      "\t[Test]\tLoss=1.0871, Acc=0.5605\n"
     ]
    },
    {
     "name": "stderr",
     "output_type": "stream",
     "text": [
      "Epoch 10 - Training: 100%|████████████████████████████████████████████████████████████████████████████████████████████████████████████████████████████████████████████████████████████████████████| 134/134 [00:06<00:00, 20.17it/s]"
     ]
    },
    {
     "name": "stdout",
     "output_type": "stream",
     "text": [
      "Adjusting learning rate of group 0 to 7.5000e-04.\n"
     ]
    },
    {
     "name": "stderr",
     "output_type": "stream",
     "text": [
      "\n"
     ]
    },
    {
     "name": "stdout",
     "output_type": "stream",
     "text": [
      "[Epoch 10]\n",
      "\t[Train]\tLoss=0.9270, Acc=0.5892\n",
      "\t[Val]\tLoss=1.5560, Acc=0.3964\n",
      "\t[Test]\tLoss=1.3856, Acc=0.4594\n"
     ]
    },
    {
     "name": "stderr",
     "output_type": "stream",
     "text": [
      "Epoch 11 - Training: 100%|████████████████████████████████████████████████████████████████████████████████████████████████████████████████████████████████████████████████████████████████████████| 134/134 [00:06<00:00, 20.00it/s]"
     ]
    },
    {
     "name": "stdout",
     "output_type": "stream",
     "text": [
      "Adjusting learning rate of group 0 to 7.0337e-04.\n"
     ]
    },
    {
     "name": "stderr",
     "output_type": "stream",
     "text": [
      "\n"
     ]
    },
    {
     "name": "stdout",
     "output_type": "stream",
     "text": [
      "[Epoch 11]\n",
      "\t[Train]\tLoss=0.8855, Acc=0.5696\n",
      "\t[Val]\tLoss=1.4716, Acc=0.4509\n",
      "\t[Test]\tLoss=1.3488, Acc=0.5027\n"
     ]
    },
    {
     "name": "stderr",
     "output_type": "stream",
     "text": [
      "Epoch 12 - Training: 100%|████████████████████████████████████████████████████████████████████████████████████████████████████████████████████████████████████████████████████████████████████████| 134/134 [00:07<00:00, 19.11it/s]"
     ]
    },
    {
     "name": "stdout",
     "output_type": "stream",
     "text": [
      "Adjusting learning rate of group 0 to 6.5451e-04.\n"
     ]
    },
    {
     "name": "stderr",
     "output_type": "stream",
     "text": [
      "\n"
     ]
    },
    {
     "name": "stdout",
     "output_type": "stream",
     "text": [
      "[Epoch 12]\n",
      "\t[Train]\tLoss=0.8271, Acc=0.6893\n",
      "\t[Val]\tLoss=1.2762, Acc=0.5036\n",
      "\t[Test]\tLoss=1.1260, Acc=0.5698\n"
     ]
    },
    {
     "name": "stderr",
     "output_type": "stream",
     "text": [
      "Epoch 13 - Training: 100%|████████████████████████████████████████████████████████████████████████████████████████████████████████████████████████████████████████████████████████████████████████| 134/134 [00:07<00:00, 18.82it/s]"
     ]
    },
    {
     "name": "stdout",
     "output_type": "stream",
     "text": [
      "Adjusting learning rate of group 0 to 6.0396e-04.\n"
     ]
    },
    {
     "name": "stderr",
     "output_type": "stream",
     "text": [
      "\n"
     ]
    },
    {
     "name": "stdout",
     "output_type": "stream",
     "text": [
      "[Epoch 13]\n",
      "\t[Train]\tLoss=0.7839, Acc=0.6956\n",
      "\t[Val]\tLoss=1.3325, Acc=0.5010\n",
      "\t[Test]\tLoss=1.1659, Acc=0.5525\n"
     ]
    },
    {
     "name": "stderr",
     "output_type": "stream",
     "text": [
      "Epoch 14 - Training: 100%|████████████████████████████████████████████████████████████████████████████████████████████████████████████████████████████████████████████████████████████████████████| 134/134 [00:06<00:00, 19.69it/s]"
     ]
    },
    {
     "name": "stdout",
     "output_type": "stream",
     "text": [
      "Adjusting learning rate of group 0 to 5.5226e-04.\n"
     ]
    },
    {
     "name": "stderr",
     "output_type": "stream",
     "text": [
      "\n"
     ]
    },
    {
     "name": "stdout",
     "output_type": "stream",
     "text": [
      "[Epoch 14]\n",
      "\t[Train]\tLoss=0.7241, Acc=0.7458\n",
      "\t[Val]\tLoss=1.2726, Acc=0.5185\n",
      "\t[Test]\tLoss=1.1562, Acc=0.5459\n"
     ]
    },
    {
     "name": "stderr",
     "output_type": "stream",
     "text": [
      "Epoch 15 - Training: 100%|████████████████████████████████████████████████████████████████████████████████████████████████████████████████████████████████████████████████████████████████████████| 134/134 [00:07<00:00, 17.57it/s]"
     ]
    },
    {
     "name": "stdout",
     "output_type": "stream",
     "text": [
      "Adjusting learning rate of group 0 to 5.0000e-04.\n"
     ]
    },
    {
     "name": "stderr",
     "output_type": "stream",
     "text": [
      "\n"
     ]
    },
    {
     "name": "stdout",
     "output_type": "stream",
     "text": [
      "[Epoch 15]\n",
      "\t[Train]\tLoss=0.6799, Acc=0.7077\n",
      "\t[Val]\tLoss=1.3210, Acc=0.5055\n",
      "\t[Test]\tLoss=1.2293, Acc=0.5698\n"
     ]
    },
    {
     "name": "stderr",
     "output_type": "stream",
     "text": [
      "Epoch 16 - Training: 100%|████████████████████████████████████████████████████████████████████████████████████████████████████████████████████████████████████████████████████████████████████████| 134/134 [00:07<00:00, 18.07it/s]"
     ]
    },
    {
     "name": "stdout",
     "output_type": "stream",
     "text": [
      "Adjusting learning rate of group 0 to 4.4774e-04.\n"
     ]
    },
    {
     "name": "stderr",
     "output_type": "stream",
     "text": [
      "\n"
     ]
    },
    {
     "name": "stdout",
     "output_type": "stream",
     "text": [
      "[Epoch 16]\n",
      "\t[Train]\tLoss=0.6295, Acc=0.7266\n",
      "\t[Val]\tLoss=1.3666, Acc=0.5231\n",
      "\t[Test]\tLoss=1.2017, Acc=0.5625\n"
     ]
    },
    {
     "name": "stderr",
     "output_type": "stream",
     "text": [
      "Epoch 17 - Training: 100%|████████████████████████████████████████████████████████████████████████████████████████████████████████████████████████████████████████████████████████████████████████| 134/134 [00:08<00:00, 15.95it/s]"
     ]
    },
    {
     "name": "stdout",
     "output_type": "stream",
     "text": [
      "Adjusting learning rate of group 0 to 3.9604e-04.\n"
     ]
    },
    {
     "name": "stderr",
     "output_type": "stream",
     "text": [
      "\n"
     ]
    },
    {
     "name": "stdout",
     "output_type": "stream",
     "text": [
      "[Epoch 17]\n",
      "\t[Train]\tLoss=0.5739, Acc=0.7921\n",
      "\t[Val]\tLoss=1.3603, Acc=0.5283\n",
      "\t[Test]\tLoss=1.1999, Acc=0.5818\n"
     ]
    },
    {
     "name": "stderr",
     "output_type": "stream",
     "text": [
      "Epoch 18 - Training: 100%|████████████████████████████████████████████████████████████████████████████████████████████████████████████████████████████████████████████████████████████████████████| 134/134 [00:07<00:00, 18.51it/s]"
     ]
    },
    {
     "name": "stdout",
     "output_type": "stream",
     "text": [
      "Adjusting learning rate of group 0 to 3.4549e-04.\n"
     ]
    },
    {
     "name": "stderr",
     "output_type": "stream",
     "text": [
      "\n"
     ]
    },
    {
     "name": "stdout",
     "output_type": "stream",
     "text": [
      "[Epoch 18]\n",
      "\t[Train]\tLoss=0.5213, Acc=0.8131\n",
      "\t[Val]\tLoss=1.4998, Acc=0.5140\n",
      "\t[Test]\tLoss=1.2560, Acc=0.5997\n"
     ]
    },
    {
     "name": "stderr",
     "output_type": "stream",
     "text": [
      "Epoch 19 - Training: 100%|████████████████████████████████████████████████████████████████████████████████████████████████████████████████████████████████████████████████████████████████████████| 134/134 [00:07<00:00, 17.23it/s]"
     ]
    },
    {
     "name": "stdout",
     "output_type": "stream",
     "text": [
      "Adjusting learning rate of group 0 to 2.9663e-04.\n"
     ]
    },
    {
     "name": "stderr",
     "output_type": "stream",
     "text": [
      "\n"
     ]
    },
    {
     "name": "stdout",
     "output_type": "stream",
     "text": [
      "[Epoch 19]\n",
      "\t[Train]\tLoss=0.4743, Acc=0.8324\n",
      "\t[Val]\tLoss=1.6902, Acc=0.5023\n",
      "\t[Test]\tLoss=1.3795, Acc=0.5785\n"
     ]
    },
    {
     "name": "stderr",
     "output_type": "stream",
     "text": [
      "Epoch 20 - Training: 100%|████████████████████████████████████████████████████████████████████████████████████████████████████████████████████████████████████████████████████████████████████████| 134/134 [00:06<00:00, 19.48it/s]"
     ]
    },
    {
     "name": "stdout",
     "output_type": "stream",
     "text": [
      "Adjusting learning rate of group 0 to 2.5000e-04.\n"
     ]
    },
    {
     "name": "stderr",
     "output_type": "stream",
     "text": [
      "\n"
     ]
    },
    {
     "name": "stdout",
     "output_type": "stream",
     "text": [
      "[Epoch 20]\n",
      "\t[Train]\tLoss=0.3988, Acc=0.8160\n",
      "\t[Val]\tLoss=1.7787, Acc=0.4925\n",
      "\t[Test]\tLoss=1.4782, Acc=0.5718\n"
     ]
    },
    {
     "name": "stderr",
     "output_type": "stream",
     "text": [
      "Epoch 21 - Training: 100%|████████████████████████████████████████████████████████████████████████████████████████████████████████████████████████████████████████████████████████████████████████| 134/134 [00:06<00:00, 19.59it/s]"
     ]
    },
    {
     "name": "stdout",
     "output_type": "stream",
     "text": [
      "Adjusting learning rate of group 0 to 2.0611e-04.\n"
     ]
    },
    {
     "name": "stderr",
     "output_type": "stream",
     "text": [
      "\n"
     ]
    },
    {
     "name": "stdout",
     "output_type": "stream",
     "text": [
      "[Epoch 21]\n",
      "\t[Train]\tLoss=0.3538, Acc=0.8909\n",
      "\t[Val]\tLoss=1.6432, Acc=0.5387\n",
      "\t[Test]\tLoss=1.3304, Acc=0.5997\n"
     ]
    },
    {
     "name": "stderr",
     "output_type": "stream",
     "text": [
      "Epoch 22 - Training: 100%|████████████████████████████████████████████████████████████████████████████████████████████████████████████████████████████████████████████████████████████████████████| 134/134 [00:06<00:00, 19.38it/s]"
     ]
    },
    {
     "name": "stdout",
     "output_type": "stream",
     "text": [
      "Adjusting learning rate of group 0 to 1.6543e-04.\n"
     ]
    },
    {
     "name": "stderr",
     "output_type": "stream",
     "text": [
      "\n"
     ]
    },
    {
     "name": "stdout",
     "output_type": "stream",
     "text": [
      "[Epoch 22]\n",
      "\t[Train]\tLoss=0.2924, Acc=0.8849\n",
      "\t[Val]\tLoss=1.9761, Acc=0.5023\n",
      "\t[Test]\tLoss=1.6472, Acc=0.5824\n"
     ]
    },
    {
     "name": "stderr",
     "output_type": "stream",
     "text": [
      "Epoch 23 - Training: 100%|████████████████████████████████████████████████████████████████████████████████████████████████████████████████████████████████████████████████████████████████████████| 134/134 [00:07<00:00, 19.00it/s]"
     ]
    },
    {
     "name": "stdout",
     "output_type": "stream",
     "text": [
      "Adjusting learning rate of group 0 to 1.2843e-04.\n"
     ]
    },
    {
     "name": "stderr",
     "output_type": "stream",
     "text": [
      "\n"
     ]
    },
    {
     "name": "stdout",
     "output_type": "stream",
     "text": [
      "[Epoch 23]\n",
      "\t[Train]\tLoss=0.2662, Acc=0.8706\n",
      "\t[Val]\tLoss=1.9956, Acc=0.4984\n",
      "\t[Test]\tLoss=1.7423, Acc=0.5578\n"
     ]
    },
    {
     "name": "stderr",
     "output_type": "stream",
     "text": [
      "Epoch 24 - Training: 100%|████████████████████████████████████████████████████████████████████████████████████████████████████████████████████████████████████████████████████████████████████████| 134/134 [00:06<00:00, 19.40it/s]"
     ]
    },
    {
     "name": "stdout",
     "output_type": "stream",
     "text": [
      "Adjusting learning rate of group 0 to 9.5492e-05.\n"
     ]
    },
    {
     "name": "stderr",
     "output_type": "stream",
     "text": [
      "\n"
     ]
    },
    {
     "name": "stdout",
     "output_type": "stream",
     "text": [
      "[Epoch 24]\n",
      "\t[Train]\tLoss=0.2165, Acc=0.9364\n",
      "\t[Val]\tLoss=1.8618, Acc=0.5257\n",
      "\t[Test]\tLoss=1.5911, Acc=0.5884\n"
     ]
    },
    {
     "name": "stderr",
     "output_type": "stream",
     "text": [
      "Epoch 25 - Training: 100%|████████████████████████████████████████████████████████████████████████████████████████████████████████████████████████████████████████████████████████████████████████| 134/134 [00:06<00:00, 20.09it/s]"
     ]
    },
    {
     "name": "stdout",
     "output_type": "stream",
     "text": [
      "Adjusting learning rate of group 0 to 6.6987e-05.\n"
     ]
    },
    {
     "name": "stderr",
     "output_type": "stream",
     "text": [
      "\n"
     ]
    },
    {
     "name": "stdout",
     "output_type": "stream",
     "text": [
      "[Epoch 25]\n",
      "\t[Train]\tLoss=0.1920, Acc=0.9437\n",
      "\t[Val]\tLoss=1.8686, Acc=0.5322\n",
      "\t[Test]\tLoss=1.5914, Acc=0.5977\n"
     ]
    },
    {
     "name": "stderr",
     "output_type": "stream",
     "text": [
      "Epoch 26 - Training: 100%|████████████████████████████████████████████████████████████████████████████████████████████████████████████████████████████████████████████████████████████████████████| 134/134 [00:06<00:00, 19.59it/s]"
     ]
    },
    {
     "name": "stdout",
     "output_type": "stream",
     "text": [
      "Adjusting learning rate of group 0 to 4.3227e-05.\n"
     ]
    },
    {
     "name": "stderr",
     "output_type": "stream",
     "text": [
      "\n"
     ]
    },
    {
     "name": "stdout",
     "output_type": "stream",
     "text": [
      "[Epoch 26]\n",
      "\t[Train]\tLoss=0.1693, Acc=0.9526\n",
      "\t[Val]\tLoss=1.9356, Acc=0.5237\n",
      "\t[Test]\tLoss=1.6550, Acc=0.5944\n"
     ]
    },
    {
     "name": "stderr",
     "output_type": "stream",
     "text": [
      "Epoch 27 - Training: 100%|████████████████████████████████████████████████████████████████████████████████████████████████████████████████████████████████████████████████████████████████████████| 134/134 [00:06<00:00, 19.91it/s]"
     ]
    },
    {
     "name": "stdout",
     "output_type": "stream",
     "text": [
      "Adjusting learning rate of group 0 to 2.4472e-05.\n"
     ]
    },
    {
     "name": "stderr",
     "output_type": "stream",
     "text": [
      "\n"
     ]
    },
    {
     "name": "stdout",
     "output_type": "stream",
     "text": [
      "[Epoch 27]\n",
      "\t[Train]\tLoss=0.1538, Acc=0.9564\n",
      "\t[Val]\tLoss=1.8856, Acc=0.5380\n",
      "\t[Test]\tLoss=1.6319, Acc=0.5991\n"
     ]
    },
    {
     "name": "stderr",
     "output_type": "stream",
     "text": [
      "Epoch 28 - Training: 100%|████████████████████████████████████████████████████████████████████████████████████████████████████████████████████████████████████████████████████████████████████████| 134/134 [00:06<00:00, 19.95it/s]"
     ]
    },
    {
     "name": "stdout",
     "output_type": "stream",
     "text": [
      "Adjusting learning rate of group 0 to 1.0926e-05.\n"
     ]
    },
    {
     "name": "stderr",
     "output_type": "stream",
     "text": [
      "\n"
     ]
    },
    {
     "name": "stdout",
     "output_type": "stream",
     "text": [
      "[Epoch 28]\n",
      "\t[Train]\tLoss=0.1356, Acc=0.9677\n",
      "\t[Val]\tLoss=1.9360, Acc=0.5322\n",
      "\t[Test]\tLoss=1.6455, Acc=0.6017\n"
     ]
    },
    {
     "name": "stderr",
     "output_type": "stream",
     "text": [
      "Epoch 29 - Training: 100%|████████████████████████████████████████████████████████████████████████████████████████████████████████████████████████████████████████████████████████████████████████| 134/134 [00:06<00:00, 19.71it/s]"
     ]
    },
    {
     "name": "stdout",
     "output_type": "stream",
     "text": [
      "Adjusting learning rate of group 0 to 2.7391e-06.\n"
     ]
    },
    {
     "name": "stderr",
     "output_type": "stream",
     "text": [
      "\n"
     ]
    },
    {
     "name": "stdout",
     "output_type": "stream",
     "text": [
      "[Epoch 29]\n",
      "\t[Train]\tLoss=0.1333, Acc=0.9646\n",
      "\t[Val]\tLoss=1.9434, Acc=0.5348\n",
      "\t[Test]\tLoss=1.6488, Acc=0.6011\n"
     ]
    },
    {
     "name": "stderr",
     "output_type": "stream",
     "text": [
      "Epoch 30 - Training: 100%|████████████████████████████████████████████████████████████████████████████████████████████████████████████████████████████████████████████████████████████████████████| 134/134 [00:06<00:00, 19.49it/s]"
     ]
    },
    {
     "name": "stdout",
     "output_type": "stream",
     "text": [
      "Adjusting learning rate of group 0 to 0.0000e+00.\n"
     ]
    },
    {
     "name": "stderr",
     "output_type": "stream",
     "text": [
      "\n"
     ]
    },
    {
     "name": "stdout",
     "output_type": "stream",
     "text": [
      "[Epoch 30]\n",
      "\t[Train]\tLoss=0.1201, Acc=0.9653\n",
      "\t[Val]\tLoss=1.9168, Acc=0.5250\n",
      "\t[Test]\tLoss=1.6307, Acc=0.6004\n"
     ]
    }
   ],
   "source": [
    "retain_args = full_train_args\n",
    "retain_args.mode = 'retain'\n",
    "retain_model = train(retain_args)"
   ]
  },
  {
   "cell_type": "code",
   "execution_count": null,
   "id": "68aeeea5",
   "metadata": {},
   "outputs": [],
   "source": []
  },
  {
   "cell_type": "code",
   "execution_count": 7,
   "id": "95ff9d24",
   "metadata": {},
   "outputs": [],
   "source": [
    "def unlearning(model, args):\n",
    "    args.unlearn = True\n",
    "    if args.algorithm.lower() == \"sftc\":\n",
    "        train_loader, val_loader, test_loader, forget_loader, merged_loader = get_data_training(args)\n",
    "    else:\n",
    "        train_loader, val_loader, test_loader, forget_loader = get_data_training(args)\n",
    "\n",
    "    device = 'cuda' if torch.cuda.is_available() else 'cpu'\n",
    "    for i in range(args.num_runs):\n",
    "        model.to(device)\n",
    "\n",
    "        optimizer = get_optimizer(args, model)\n",
    "        scheduler = get_scheduler(args, optimizer)\n",
    "\n",
    "        criterion = get_criterion(args, train_loader, device)\n",
    "\n",
    "        unlearn_fn = get_unlearning_algorithm(args)\n",
    "\n",
    "        if args.algorithm.lower() == \"cfk\":\n",
    "            unlearn_args = {'eu_k': False, 'k': args.k}\n",
    "        elif args.algorithm.lower() == \"euk\":\n",
    "            unlearn_args = {'eu_k': True, 'k': args.k}\n",
    "        elif args.algorithm.lower() == \"neg_grad\":\n",
    "            unlearn_args = {'advanced_neg_grad': False}\n",
    "        elif args.algorithm.lower() == \"advanced_neg_grad\":\n",
    "            unlearn_args = {'advanced_neg_grad': True}\n",
    "        elif args.algorithm.lower() == \"scrub\":\n",
    "            teacher_model = copy.deepcopy(model)\n",
    "            unlearn_args = {'teacher_model': teacher_model, 'temperature': args.temperature}\n",
    "        elif args.algorithm.lower() == \"bad_teaching\":\n",
    "            teacher_model = copy.deepcopy(model)\n",
    "            dummy_model = get_model(args)\n",
    "            dummy_model.to(device)\n",
    "            unlearn_args = {'teacher_model': teacher_model, 'dummy_model': dummy_model, 'temperature': args.temperature}\n",
    "        elif args.algorithm.lower() == \"sftc\":\n",
    "            teacher_model = copy.deepcopy(model)\n",
    "            dummy_model = get_dummy_model(args)\n",
    "            if not isinstance(dummy_model, RandomDistributionGenerator):\n",
    "                dummy_model.to(device)\n",
    "            unlearn_args = {'teacher_model': teacher_model, 'dummy_model': dummy_model, 'temperature': args.temperature,\n",
    "                            'confuse_fraction': args.confuse_fraction, 'merged_loader': merged_loader}\n",
    "        elif args.algorithm.lower() == \"sftc+\":\n",
    "            teacher_model = copy.deepcopy(model)\n",
    "            dummy_model = get_dummy_model(args)\n",
    "            if not isinstance(dummy_model, RandomDistributionGenerator):\n",
    "                dummy_model.to(device)\n",
    "            unlearn_args = {'teacher_model': teacher_model, 'dummy_model': dummy_model, 'temperature': args.temperature,\n",
    "                            'confuse_fraction': args.confuse_fraction}\n",
    "        else:\n",
    "            unlearn_args = {}\n",
    "\n",
    "        model, history = unlearn_fn(\n",
    "            model=model,\n",
    "            retain_loader=train_loader,\n",
    "            val_loader=val_loader,\n",
    "            test_loader=test_loader,\n",
    "            forget_loader=forget_loader,\n",
    "            optimizer=optimizer,\n",
    "            scheduler=scheduler,\n",
    "            criterion=criterion,\n",
    "            epochs=args.epochs,\n",
    "            return_history=True,\n",
    "            device=device,\n",
    "            **unlearn_args\n",
    "        )\n",
    "        timestamp = str(time.time())\n",
    "        name = str(args.model) + \"_\" + str(args.algorithm) + \"_\" + str(args.dataset) + \"_\" + timestamp\n",
    "        if args.store_history:\n",
    "            fig_name = name + \"history\"\n",
    "            store_training_history(args, history, fig_name)\n",
    "        if args.store_model:\n",
    "            store_trained_model(args, model, name, unlearn=True)\n",
    "        return model"
   ]
  },
  {
   "cell_type": "code",
   "execution_count": 8,
   "id": "3188f851",
   "metadata": {},
   "outputs": [],
   "source": [
    "def evaluate(pretrained_model, retain_model, unlearned_model, unlearn_args):\n",
    "    dataset = unlearn_args.dataset\n",
    "    retain_set, val_set, test_set, forget_set = get_data_training(unlearn_args, return_sets=True)\n",
    "    \n",
    "    retain_dataloader = DataLoader(retain_set, batch_size=unlearn_args.batch_size, shuffle=False)\n",
    "    test_dataloader = DataLoader(test_set, batch_size=unlearn_args.batch_size, shuffle=False)\n",
    "    forget_dataloader = DataLoader(forget_set, batch_size=unlearn_args.batch_size, shuffle=False)\n",
    "\n",
    "    set_seed(0)\n",
    "    js_div = js_ind(\n",
    "        unlearned_model=unlearned_model, original_model=pretrained_model,\n",
    "        forget_loader=forget_dataloader,\n",
    "        device=device\n",
    "    )\n",
    "    print(\"JS distinguishability\", js_div)\n",
    "    print(\"\\n\\n\")\n",
    "    \n",
    "        \n",
    "\n",
    "    mia_cv, mia_forget = membership_inference(\n",
    "        model=unlearned_model, retain_set=retain_set, test_set=test_set, forget_set=forget_set, \n",
    "        verbose=False, full_verbose=False, device=device\n",
    "    )\n",
    "    print('[Unlearned Model]')\n",
    "    print(\"MIA CV\", mia_cv)\n",
    "    print(\"MIA Forget\", mia_forget)\n",
    "    print(\"\\n\\n\")\n",
    "\n",
    "\n",
    "    report = pretty_predict_all(\n",
    "        [unlearned_model, pretrained_model, retain_model],\n",
    "        ['Unlearned', 'Original', 'Retain'],\n",
    "        {\n",
    "            'forget': forget_dataloader, \n",
    "            'test': test_dataloader, \n",
    "        },\n",
    "        device\n",
    "    )\n",
    "    print(report)\n",
    "    print(\"\\n\")\n",
    "    unlearn_acc_forget = report[(report.Model == 'Original') & (report.Dataset == 'forget')]['Acc'].values[0]\n",
    "    retain_acc_forget = report[(report.Model == 'Unlearned') & (report.Dataset == 'forget')]['Acc'].values[0]\n",
    "    unlearn_acc_test = report[(report.Model == 'Unlearned') & (report.Dataset == 'test')]['Acc'].values[0]\n",
    "    retain_acc_test = report[(report.Model == 'Unlearned') & (report.Dataset == 'test')]['Acc'].values[0]\n",
    "    original_acc_test = report[(report.Model == 'Original') & (report.Dataset == 'test')]['Acc'].values[0]\n",
    "                \n",
    "    sape_eff_r = sape(retain_acc_test, unlearn_acc_test)\n",
    "    sape_dis_r = sape(retain_acc_forget, unlearn_acc_forget)\n",
    "    sape_eff = sape(original_acc_test, unlearn_acc_test)\n",
    "                \n",
    "     "
   ]
  },
  {
   "cell_type": "code",
   "execution_count": 9,
   "id": "69803bfa",
   "metadata": {},
   "outputs": [],
   "source": [
    "# params\n",
    "unlearn_args = Namespace(\n",
    "    dataset='mufac', # CIFAR dataset\n",
    "    algorithm='sftc', # unlearning alg\n",
    "    mode='retain',\n",
    "    model='resnet18', # the model to use\n",
    "    dummy_model='random',\n",
    "    lr=9e-4, # learning rate\n",
    "    optimizer='adam', # optimizer\n",
    "    decay=0, # weight decay\n",
    "    epochs=4, # number of epochs\n",
    "    batch_size=64, # batch size\n",
    "    scheduler=False, # \n",
    "    class_weights=False,\n",
    "    store_model=False,\n",
    "    store_history=False,\n",
    "    num_runs=1,\n",
    "    temperature=1.,\n",
    "    confuse_fraction=0.\n",
    ")\n",
    "device = 'cuda' if torch.cuda.is_available() else 'cpu'"
   ]
  },
  {
   "cell_type": "markdown",
   "id": "6642d29b",
   "metadata": {},
   "source": [
    "# Perform Unlearning"
   ]
  },
  {
   "cell_type": "code",
   "execution_count": 10,
   "id": "8bb4706a",
   "metadata": {},
   "outputs": [
    {
     "name": "stdout",
     "output_type": "stream",
     "text": [
      "#Training: 10025\n",
      "#Validation: 1539\n",
      "#Test: 1504\n",
      "#Retain: 8525\n",
      "#Forget: 1500\n",
      "Compose(\n",
      "    Resize(size=128, interpolation=bilinear, max_size=None, antialias=warn)\n",
      "    ToTensor()\n",
      ")\n",
      "Using seed=3626093760\n",
      "Using seed=2588848963\n",
      "Using seed=3684848379\n",
      "Using seed=2340255427\n"
     ]
    },
    {
     "name": "stderr",
     "output_type": "stream",
     "text": [
      "Epoch 1 - Training: 100%|█████████████████████████████████████████████████████████████████████████████████████████████████████████████████████████████████████████████████████████████████████████| 157/157 [00:11<00:00, 14.00it/s]\n"
     ]
    },
    {
     "name": "stdout",
     "output_type": "stream",
     "text": [
      "[Epoch 1]\n",
      "\t[Train]\tRetain Loss=0.3589, Retain Acc=0.9249, KL Loss=0.5304\n",
      "\t[Val]\tLoss=1.4318, Acc=0.5062\n",
      "\t[Test]\tLoss=1.2890, Acc=0.5645\n",
      "\t[Forget] Loss=0.8061, Acc=0.6953\n"
     ]
    },
    {
     "name": "stderr",
     "output_type": "stream",
     "text": [
      "Epoch 2 - Training: 100%|█████████████████████████████████████████████████████████████████████████████████████████████████████████████████████████████████████████████████████████████████████████| 157/157 [00:10<00:00, 14.28it/s]\n"
     ]
    },
    {
     "name": "stdout",
     "output_type": "stream",
     "text": [
      "[Epoch 2]\n",
      "\t[Train]\tRetain Loss=0.1955, Retain Acc=0.9533, KL Loss=0.3107\n",
      "\t[Val]\tLoss=1.6390, Acc=0.4893\n",
      "\t[Test]\tLoss=1.3774, Acc=0.5572\n",
      "\t[Forget] Loss=1.0000, Acc=0.6367\n"
     ]
    },
    {
     "name": "stderr",
     "output_type": "stream",
     "text": [
      "Epoch 3 - Training: 100%|█████████████████████████████████████████████████████████████████████████████████████████████████████████████████████████████████████████████████████████████████████████| 157/157 [00:11<00:00, 13.97it/s]\n"
     ]
    },
    {
     "name": "stdout",
     "output_type": "stream",
     "text": [
      "[Epoch 3]\n",
      "\t[Train]\tRetain Loss=0.1580, Retain Acc=0.9483, KL Loss=0.2692\n",
      "\t[Val]\tLoss=1.5883, Acc=0.4919\n",
      "\t[Test]\tLoss=1.4946, Acc=0.5399\n",
      "\t[Forget] Loss=1.1833, Acc=0.5793\n"
     ]
    },
    {
     "name": "stderr",
     "output_type": "stream",
     "text": [
      "Epoch 4 - Training: 100%|█████████████████████████████████████████████████████████████████████████████████████████████████████████████████████████████████████████████████████████████████████████| 157/157 [00:11<00:00, 13.75it/s]\n"
     ]
    },
    {
     "name": "stdout",
     "output_type": "stream",
     "text": [
      "[Epoch 4]\n",
      "\t[Train]\tRetain Loss=0.1109, Retain Acc=0.9862, KL Loss=0.2172\n",
      "\t[Val]\tLoss=1.5847, Acc=0.5055\n",
      "\t[Test]\tLoss=1.4867, Acc=0.5652\n",
      "\t[Forget] Loss=1.1461, Acc=0.6073\n"
     ]
    }
   ],
   "source": [
    "tmp_model = copy.deepcopy(trained_model)\n",
    "unlearned_model = unlearning(tmp_model, unlearn_args)"
   ]
  },
  {
   "cell_type": "code",
   "execution_count": 11,
   "id": "683f3765",
   "metadata": {},
   "outputs": [
    {
     "data": {
      "text/plain": [
       "Namespace(dataset='mufac', algorithm='sftc', mode='retain', model='resnet18', dummy_model='random', lr=0.0009, optimizer='adam', decay=0, epochs=4, batch_size=64, scheduler=False, class_weights=False, store_model=False, store_history=False, num_runs=1, temperature=1.0, confuse_fraction=0.0, unlearn=True)"
      ]
     },
     "execution_count": 11,
     "metadata": {},
     "output_type": "execute_result"
    }
   ],
   "source": [
    "unlearn_args"
   ]
  },
  {
   "cell_type": "markdown",
   "id": "29c59fc8",
   "metadata": {},
   "source": [
    "# Evaluate Unlearning"
   ]
  },
  {
   "cell_type": "code",
   "execution_count": 12,
   "id": "6456071a",
   "metadata": {},
   "outputs": [
    {
     "name": "stdout",
     "output_type": "stream",
     "text": [
      "#Training: 10025\n",
      "#Validation: 1539\n",
      "#Test: 1504\n",
      "#Retain: 8525\n",
      "#Forget: 1500\n",
      "Compose(\n",
      "    Resize(size=128, interpolation=bilinear, max_size=None, antialias=warn)\n",
      "    ToTensor()\n",
      ")\n",
      "Random seed set as 0\n",
      "JS distinguishability 1.0537023544311523\n",
      "\n",
      "\n",
      "\n",
      "[Unlearned Model]\n",
      "MIA CV {'Accuracy': 0.8181563396553917, 'TP': 253.0, 'TN': 239.2, 'FP': 61.6, 'FN': 47.8, 'TPR': 0.8410897009966776, 'TNR': 0.7952314507198228}\n",
      "MIA Forget {'TN': 1455.4, 'FP': 44.6, 'TNR': 0.9702666666666666}\n",
      "\n",
      "\n",
      "\n",
      "       Model Dataset      Loss       Acc\n",
      "0  Unlearned  forget  1.146621  0.607333\n",
      "2   Original  forget  0.036783  0.994000\n",
      "4     Retain  forget  2.349710  0.470667\n",
      "1  Unlearned    test  1.486711  0.565160\n",
      "3   Original    test  1.522299  0.603723\n",
      "5     Retain    test  1.630721  0.600399\n",
      "\n",
      "\n"
     ]
    }
   ],
   "source": [
    "evaluate(trained_model, retain_model, unlearned_model, unlearn_args)"
   ]
  },
  {
   "cell_type": "code",
   "execution_count": null,
   "id": "ac81b8af",
   "metadata": {},
   "outputs": [],
   "source": []
  }
 ],
 "metadata": {
  "kernelspec": {
   "display_name": "Python 3 (ipykernel)",
   "language": "python",
   "name": "python3"
  },
  "language_info": {
   "codemirror_mode": {
    "name": "ipython",
    "version": 3
   },
   "file_extension": ".py",
   "mimetype": "text/x-python",
   "name": "python",
   "nbconvert_exporter": "python",
   "pygments_lexer": "ipython3",
   "version": "3.9.16"
  }
 },
 "nbformat": 4,
 "nbformat_minor": 5
}
